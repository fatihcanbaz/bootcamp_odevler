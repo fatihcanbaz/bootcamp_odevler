{
 "cells": [
  {
   "cell_type": "code",
   "execution_count": 1,
   "metadata": {},
   "outputs": [
    {
     "name": "stdout",
     "output_type": "stream",
     "text": [
      "Hafta başında 1000 dolarlık bitcoin aldığımızda\n",
      "günlük ortalama % 12 kazançla, bir haftanın sonunda 1210.6814074060812 dolar kazandırdık.\n"
     ]
    }
   ],
   "source": [
    "yatirim = x = 1000\n",
    "x = x*1.12\n",
    "x = x*1.12\n",
    "x = x*1.12\n",
    "x = x*1.12\n",
    "x = x*1.12\n",
    "x = x*1.12\n",
    "x = x*1.12\n",
    "kazanc = x - yatirim\n",
    "artis = 12\n",
    "print (\"Hafta başında\", yatirim,\"dolarlık bitcoin aldığımızda\")\n",
    "print (\"günlük ortalama %\",artis,\"kazançla, bir haftanın sonunda\",kazanc,\"dolar kazandırdık.\")"
   ]
  }
 ],
 "metadata": {
  "kernelspec": {
   "display_name": "Python 3",
   "language": "python",
   "name": "python3"
  },
  "language_info": {
   "codemirror_mode": {
    "name": "ipython",
    "version": 3
   },
   "file_extension": ".py",
   "mimetype": "text/x-python",
   "name": "python",
   "nbconvert_exporter": "python",
   "pygments_lexer": "ipython3",
   "version": "3.7.4"
  }
 },
 "nbformat": 4,
 "nbformat_minor": 2
}
